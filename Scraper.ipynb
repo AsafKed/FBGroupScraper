{
 "cells": [
  {
   "cell_type": "code",
   "execution_count": 1,
   "metadata": {},
   "outputs": [],
   "source": [
    "# inspired by\n",
    "# https://github.com/fjg00/Facebook-Group-Post-Scraper/blob/main/Facebook%20Group%20Parser.py\n",
    "from selenium import webdriver\n",
    "from selenium.webdriver.common.keys import Keys\n",
    "from selenium.webdriver.support import expected_conditions as EC\n",
    "from selenium.webdriver.common.by import By\n",
    "from selenium.webdriver.support.wait import WebDriverWait\n",
    "from bs4 import BeautifulSoup\n",
    "\n",
    "import argparse\n",
    "import time\n",
    "import json\n",
    "\n",
    "import os\n",
    "from selenium.webdriver.chrome.options import Options"
   ]
  },
  {
   "cell_type": "code",
   "execution_count": 2,
   "metadata": {},
   "outputs": [],
   "source": [
    "# USER DEFINED INPUTS\n",
    "import Login\n",
    "CHROME_DRIVER_PATH = './chromedriver' # must download this yourself\n",
    "\n",
    "# EMAIL, PASSWORD from Login file \n",
    "EMAIL = Login.EMAIL\n",
    "PASSWORD = Login.PASSWORD\n",
    "\n",
    "# Group number\n",
    "GROUP_ID = 1379345962387168 #USER INPUT\n",
    "GROUP_URL = 'https://www.facebook.com/groups/'+str(GROUP_ID)\n",
    "\n",
    "SEARCH_PROMPT = \"\" # something to be searched for in the group\n",
    "SEARCH_PROMPT = SEARCH_PROMPT.replace(\" \",\"%20\")\n",
    "\n",
    "# Copy the group description and put it here to be able to filter it out\n",
    "GROUP_DESCRIPTION = \"\"\"-Kamer in Eindhoven-\n",
    "Kamer in Eindhoven is een platform waar vraag en aanbod (kosteloos) worden samengebracht. Ben je opzoek naar een kamer, huisgenoot of bied je een kamer aan, word dan nu lid van deze facebookgroep.\n",
    "Je scrollt door de nieuwste kamers en huisgenoten om vervolgens direct te reageren naar de aanbieder. Bij ons geen inschrijfkosten, gewoon studenten onder elkaar.\n",
    "Kamer in Eindhoven is onderdeel van de Facebook community Zoekt Kamer in… Wij zijn ook actief in Nijmegen, Amsterdam, Delft, Rotterdam, Groningen, Maastricht, Breda, Utrecht, Leiden, Den Haag, Haarlem en Amersfoort.\n",
    "Sinds 2020 hebben wij een samenwerking met de gratis app MyHospi. Hiermee willen wij het proces voor jullie nog makkelijker maken.\n",
    "HOE WERKT MYHOSPI VOOR HUIZEN?\n",
    "1. Plaats de kamer op myHospi via de app.\n",
    "2. Deel de link naar het huis in je FB bericht en geef aan dat mensen via myHospi (de link) moeten reageren. Met myHospi krijg je direct een compleet beeld van de mensen die reageren op jouw kamer. Geen onpersoonlijke mails maar complete profielen.\n",
    "3. Swipe en Like!\n",
    "4. Nodig kandidaten uit en deel de link naar je videocall.\"\"\" # User input"
   ]
  },
  {
   "cell_type": "code",
   "execution_count": 3,
   "metadata": {},
   "outputs": [],
   "source": [
    "def addvalues(dictionary, key, L):\n",
    "    \"\"\"Append multiple values to a key in the given dictionary\"\"\"\n",
    "    if key not in dictionary:\n",
    "        dictionary[key] = list()\n",
    "    dictionary[key].extend(L)\n",
    "    return dictionary\n"
   ]
  },
  {
   "cell_type": "code",
   "execution_count": 4,
   "metadata": {},
   "outputs": [
    {
     "name": "stderr",
     "output_type": "stream",
     "text": [
      "/tmp/ipykernel_16436/2054855826.py:5: DeprecationWarning: executable_path has been deprecated, please pass in a Service object\n",
      "  driver = webdriver.Chrome(CHROME_DRIVER_PATH, options=chrome_options) #USER INPUT\n"
     ]
    }
   ],
   "source": [
    "# Webdriver options\n",
    "chrome_options = webdriver.ChromeOptions()\n",
    "chrome_options.add_argument('--disable-notifications')\n",
    "\n",
    "driver = webdriver.Chrome(CHROME_DRIVER_PATH, options=chrome_options) #USER INPUT\n",
    "driver.get('https://www.facebook.com/')\n",
    "\n",
    "WebDriverWait(driver, 20).until(EC.element_to_be_clickable((By.XPATH, \"//button[@class='_42ft _4jy0 _9xo6 _4jy3 _4jy1 selected _51sy']\"))).click()\n",
    "email = WebDriverWait(driver, 10).until(EC.element_to_be_clickable((By.CSS_SELECTOR,\"input[name = 'email']\")))\n",
    "password = WebDriverWait(driver, 10).until(EC.element_to_be_clickable((By.CSS_SELECTOR,\"input[name = 'pass']\")))\n",
    "\n",
    "\n",
    "email.clear()\n",
    "password.clear()\n",
    "\n",
    "email.send_keys(EMAIL) #USER INPUT\n",
    "password.send_keys(PASSWORD) #USER INPUT"
   ]
  },
  {
   "cell_type": "code",
   "execution_count": 5,
   "metadata": {},
   "outputs": [],
   "source": [
    "# Open window, select group\n",
    "login = WebDriverWait(driver, 10).until(EC.element_to_be_clickable((By.CSS_SELECTOR,\"button[type = 'submit']\"))).click()\n",
    "\n",
    "#maximize window\n",
    "driver.maximize_window()\n",
    "\n",
    "n_scrolls = 2\n",
    "\n",
    "# Gets FB group with search parameters\n",
    "driver.get(GROUP_URL+SEARCH_PROMPT)"
   ]
  },
  {
   "cell_type": "code",
   "execution_count": 6,
   "metadata": {},
   "outputs": [],
   "source": [
    "# Selection criteria\n",
    "text = \"\"\n",
    "comments = \"\"\n",
    "z = 1"
   ]
  },
  {
   "cell_type": "code",
   "execution_count": 7,
   "metadata": {},
   "outputs": [],
   "source": [
    "# Scroll through the page and get all links\n",
    "all_urls = []\n",
    "for i in range(1,n_scrolls):\n",
    "    driver.execute_script(\"window.scrollTo(0,document.body.scrollHeight);\")\n",
    "    time.sleep(5)\n",
    "    \n",
    "    \n",
    "    a_tags = driver.find_elements(By.TAG_NAME, 'a')\n",
    "    all_urls.extend([a.get_attribute('href') for a in a_tags])\n",
    "    "
   ]
  },
  {
   "cell_type": "code",
   "execution_count": 8,
   "metadata": {},
   "outputs": [
    {
     "data": {
      "text/plain": [
       "163"
      ]
     },
     "execution_count": 8,
     "metadata": {},
     "output_type": "execute_result"
    }
   ],
   "source": [
    "len(all_urls)"
   ]
  },
  {
   "cell_type": "code",
   "execution_count": 9,
   "metadata": {},
   "outputs": [
    {
     "name": "stdout",
     "output_type": "stream",
     "text": [
      "post count 4\n",
      "comment count 8\n",
      "all_urls count 163\n"
     ]
    }
   ],
   "source": [
    "# Add link to anchor list if it's a group post\n",
    "comments = [a for a in all_urls if (str(a).startswith(GROUP_URL+'/posts/'))]\n",
    "posts = set(comment.partition('?comment')[0] for comment in comments)\n",
    "print ('post count', len(posts))\n",
    "print ('comment count', len(comments))\n",
    "print ('all_urls count', len(all_urls))\n",
    "# Current result with n = 20"
   ]
  },
  {
   "cell_type": "code",
   "execution_count": 10,
   "metadata": {},
   "outputs": [
    {
     "name": "stdout",
     "output_type": "stream",
     "text": [
      "actualPosts text [Rental November-February in Strijp, viewing evening on Friday 4 November]Ha future house mate!We are from California and we are looking for a housemate to join us from November to February (with a view to permanent)The room in our cozy house at Strijp-S has a surface area of 15m2 and its own wash basin. The room is located on the second floor of the house. In addition to the beautiful room, the price also includes 4 roommates: Vera, Matthijs, Tijn and Eefje. We are a relaxed house in which everyone enjoys doing what he/she wants. Well you can join us almost every evening to eat together on the roof terrace and the doors are almost always open for a chat, to watch a series or a game.Station Strijp-S, the bus stop and the supermarket are within walking distance and you are within a few steps to the nice Strijp-s. In addition, you are within 15 minutes by bike at the TU, Fontys or in the city. The furniture in the room just stays. This entire package is yours for €375/month incl. g/w/l, internet and washing machine.Does this really suit you? Send a nice message about yourself and maybe we'll see you at the viewing evening on November 4!In love with the Cali House\n",
      "isTranslated True\n",
      "commentCount <span class=\"x193iq5w xeuugli x13faqbe x1vvkbs x10flsy6 x1lliihq x1s928wv xhkezso x1gmr53x x1cpjm7i x1fgarty x1943h6x x4zkp8e x41vudc x6prxxf xvq8zen xo1l8bm xi81zsa\" dir=\"auto\">12 Comments</span>\n",
      "actualComments count 4\n",
      "ACTUAL actual comment None\n",
      "ACTUAL actual comment PM sent!\n",
      "ACTUAL actual comment I’m sent!\n",
      "ACTUAL actual comment -Kamer in Eindhoven-\n"
     ]
    },
    {
     "ename": "NameError",
     "evalue": "name 'x' is not defined",
     "output_type": "error",
     "traceback": [
      "\u001b[0;31m---------------------------------------------------------------------------\u001b[0m",
      "\u001b[0;31mNameError\u001b[0m                                 Traceback (most recent call last)",
      "Cell \u001b[0;32mIn [10], line 52\u001b[0m\n\u001b[1;32m     50\u001b[0m \u001b[38;5;28;01mif\u001b[39;00m w \u001b[38;5;241m==\u001b[39m \u001b[38;5;241m1\u001b[39m: \u001b[38;5;66;03m#post\u001b[39;00m\n\u001b[1;32m     51\u001b[0m     text\u001b[38;5;241m=\u001b[39m text \u001b[38;5;241m+\u001b[39m post\u001b[38;5;241m.\u001b[39mget_text() \n\u001b[0;32m---> 52\u001b[0m     BranchDict[\u001b[38;5;124m\"\u001b[39m\u001b[38;5;124mtag\u001b[39m\u001b[38;5;124m\"\u001b[39m] \u001b[38;5;241m=\u001b[39m \u001b[43mx\u001b[49m \u001b[38;5;241m+\u001b[39m \u001b[38;5;28mstr\u001b[39m(z) \n\u001b[1;32m     53\u001b[0m     BranchDict[\u001b[38;5;124m\"\u001b[39m\u001b[38;5;124mpatterns\u001b[39m\u001b[38;5;124m\"\u001b[39m] \u001b[38;5;241m=\u001b[39m text\n\u001b[1;32m     54\u001b[0m     w \u001b[38;5;241m=\u001b[39m w \u001b[38;5;241m+\u001b[39m \u001b[38;5;241m1\u001b[39m\n",
      "\u001b[0;31mNameError\u001b[0m: name 'x' is not defined"
     ]
    }
   ],
   "source": [
    "# Grab post and comment data\n",
    "# TODO make nice df out of it\n",
    "# TODO grab info about posters and commenters\n",
    "# TODO grab time data (and time difference between post and comment)\n",
    "WrapperDict = list() \n",
    "    \n",
    "for a in posts:\n",
    "        driver.get(a)\n",
    "        time.sleep(1)\n",
    "        \n",
    "        page_source = driver.page_source\n",
    "        soup = BeautifulSoup(page_source, 'html.parser')\n",
    "        \n",
    "        actualPosts =  soup.find('div' , class_ = \"xdj266r x11i5rnm xat24cr x1mh8g0r x1vvkbs x126k92a\") #posts\n",
    "        isTranslated = len(soup.find_all('span', class_ = \"x193iq5w xeuugli x13faqbe x1vvkbs x10flsy6 x1pg5gke xvq8zen xo1l8bm x1qq9wsj x1yc453h\")) > 0\n",
    "        commentCount = soup.find('span', class_ = \"x193iq5w xeuugli x13faqbe x1vvkbs x10flsy6 x1lliihq x1s928wv xhkezso x1gmr53x x1cpjm7i x1fgarty x1943h6x x4zkp8e x41vudc x6prxxf xvq8zen xo1l8bm xi81zsa\")\n",
    "\n",
    "        # TODO check that ALL comments are actually found\n",
    "        # Get comments\n",
    "        WebDriverWait(driver, 10).until(EC.element_to_be_clickable((By.XPATH, \"//span[@class='x78zum5 x1w0mnb xeuugli']\"))).click()\n",
    "        # TODO handle this (see print statement below) for text AND for emoji usage\n",
    "        actualComments = soup.find_all('div', class_ = \"xdj266r x11i5rnm xat24cr x1mh8g0r x1vvkbs\")\n",
    "        \n",
    "        # TODO create DF/dictionary/smth with all this info\n",
    "\n",
    "        print ('actualPosts text', actualPosts.text)\n",
    "        print ('isTranslated', isTranslated)\n",
    "        print ('commentCount', commentCount)\n",
    "        # print ('actualComments', actualComments[0])\n",
    "        print ('actualComments count', len(actualComments))\n",
    "        for i in range(0, len(actualComments)):\n",
    "            print ('ACTUAL actual comment', actualComments[i].div.string)\n",
    "\n",
    "        w = 1\n",
    "        \n",
    "        BranchDict = dict()\n",
    "        BranchDict[\"tag\"] = 1\n",
    "        BranchDict[\"patterns\"] = 1\n",
    "        BranchDict[\"responses\"] = list()\n",
    "        L = list()\n",
    "        \n",
    "        for post in actualPosts:\n",
    "            s = post.get_text()\n",
    "            # if (s == \"INSERT GROUP DESCRIPTION HERE\"): #USER INPUT\n",
    "            if (s == GROUP_DESCRIPTION): #USER INPUT\n",
    "                time.sleep(1)\n",
    "            elif len(s.split()) < 4:\n",
    "                time.sleep(1)\n",
    "            else:\n",
    "                if w == 1: #post\n",
    "                    text= text + post.get_text() \n",
    "                    BranchDict[\"tag\"] = SEARCH_PROMPT + str(z) \n",
    "                    BranchDict[\"patterns\"] = text\n",
    "                    w = w + 1\n",
    "                elif w > 1 : #comments\n",
    "                    comments = post.get_text()\n",
    "                    L.append(comments)\n",
    "                    comments = \"\"\n",
    "        z = z + 1\n",
    "        addvalues(BranchDict, \"responses\", L)\n",
    "        WrapperDict.append(BranchDict)\n",
    "        text = \"\""
   ]
  },
  {
   "cell_type": "code",
   "execution_count": null,
   "metadata": {},
   "outputs": [],
   "source": [
    "# # Save it, brother\n",
    "# x = '/.' + x + '.json'\n",
    "\n",
    "# with open(x,'w', encoding='utf-8') as file:\n",
    "#     file.write(json.dumps(WrapperDict, indent = 4, ensure_ascii=False).encode('utf-8').decode())\n"
   ]
  }
 ],
 "metadata": {
  "kernelspec": {
   "display_name": "Python 3.10.6 64-bit",
   "language": "python",
   "name": "python3"
  },
  "language_info": {
   "codemirror_mode": {
    "name": "ipython",
    "version": 3
   },
   "file_extension": ".py",
   "mimetype": "text/x-python",
   "name": "python",
   "nbconvert_exporter": "python",
   "pygments_lexer": "ipython3",
   "version": "3.10.6"
  },
  "orig_nbformat": 4,
  "vscode": {
   "interpreter": {
    "hash": "916dbcbb3f70747c44a77c7bcd40155683ae19c65e1c03b4aa3499c5328201f1"
   }
  }
 },
 "nbformat": 4,
 "nbformat_minor": 2
}
