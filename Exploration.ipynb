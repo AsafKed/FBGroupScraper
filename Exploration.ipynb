{
 "cells": [
  {
   "cell_type": "code",
   "execution_count": 146,
   "metadata": {},
   "outputs": [],
   "source": [
    "import pandas as pd\n",
    "import seaborn as sns\n",
    "import re\n",
    "import locale\n",
    "import math"
   ]
  },
  {
   "cell_type": "code",
   "execution_count": 147,
   "metadata": {},
   "outputs": [],
   "source": [
    "df = pd.read_csv('25-10-2022.csv')\n",
    "df = df.drop_duplicates().sort_values(by=\"Comment_Count\", ascending=False).reset_index(drop=True)"
   ]
  },
  {
   "cell_type": "code",
   "execution_count": 148,
   "metadata": {},
   "outputs": [
    {
     "data": {
      "text/html": [
       "<div>\n",
       "<style scoped>\n",
       "    .dataframe tbody tr th:only-of-type {\n",
       "        vertical-align: middle;\n",
       "    }\n",
       "\n",
       "    .dataframe tbody tr th {\n",
       "        vertical-align: top;\n",
       "    }\n",
       "\n",
       "    .dataframe thead th {\n",
       "        text-align: right;\n",
       "    }\n",
       "</style>\n",
       "<table border=\"1\" class=\"dataframe\">\n",
       "  <thead>\n",
       "    <tr style=\"text-align: right;\">\n",
       "      <th></th>\n",
       "      <th>Text</th>\n",
       "      <th>Is_Translated</th>\n",
       "      <th>Comment_Count</th>\n",
       "      <th>URL</th>\n",
       "    </tr>\n",
       "  </thead>\n",
       "  <tbody>\n",
       "    <tr>\n",
       "      <th>0</th>\n",
       "      <td>As of November 1, two rooms will be available ...</td>\n",
       "      <td>True</td>\n",
       "      <td>88</td>\n",
       "      <td>https://www.facebook.com/groups/13793459623871...</td>\n",
       "    </tr>\n",
       "    <tr>\n",
       "      <th>1</th>\n",
       "      <td>Nice room in the coziest street of Eindhoven A...</td>\n",
       "      <td>True</td>\n",
       "      <td>82</td>\n",
       "      <td>https://www.facebook.com/groups/13793459623871...</td>\n",
       "    </tr>\n",
       "    <tr>\n",
       "      <th>2</th>\n",
       "      <td>Female roommate wanted #offerA room will be av...</td>\n",
       "      <td>True</td>\n",
       "      <td>39</td>\n",
       "      <td>https://www.facebook.com/groups/13793459623871...</td>\n",
       "    </tr>\n",
       "    <tr>\n",
       "      <th>3</th>\n",
       "      <td>Beste misschien toekomstige huisgenoot, Huize ...</td>\n",
       "      <td>False</td>\n",
       "      <td>37</td>\n",
       "      <td>https://www.facebook.com/groups/13793459623871...</td>\n",
       "    </tr>\n",
       "    <tr>\n",
       "      <th>4</th>\n",
       "      <td>CLOSEDHey girls looking for a room,we are look...</td>\n",
       "      <td>True</td>\n",
       "      <td>35</td>\n",
       "      <td>https://www.facebook.com/groups/13793459623871...</td>\n",
       "    </tr>\n",
       "  </tbody>\n",
       "</table>\n",
       "</div>"
      ],
      "text/plain": [
       "                                                Text  Is_Translated  \\\n",
       "0  As of November 1, two rooms will be available ...           True   \n",
       "1  Nice room in the coziest street of Eindhoven A...           True   \n",
       "2  Female roommate wanted #offerA room will be av...           True   \n",
       "3  Beste misschien toekomstige huisgenoot, Huize ...          False   \n",
       "4  CLOSEDHey girls looking for a room,we are look...           True   \n",
       "\n",
       "   Comment_Count                                                URL  \n",
       "0             88  https://www.facebook.com/groups/13793459623871...  \n",
       "1             82  https://www.facebook.com/groups/13793459623871...  \n",
       "2             39  https://www.facebook.com/groups/13793459623871...  \n",
       "3             37  https://www.facebook.com/groups/13793459623871...  \n",
       "4             35  https://www.facebook.com/groups/13793459623871...  "
      ]
     },
     "execution_count": 148,
     "metadata": {},
     "output_type": "execute_result"
    }
   ],
   "source": [
    "df.head()"
   ]
  },
  {
   "cell_type": "code",
   "execution_count": 149,
   "metadata": {},
   "outputs": [
    {
     "data": {
      "text/html": [
       "<div>\n",
       "<style scoped>\n",
       "    .dataframe tbody tr th:only-of-type {\n",
       "        vertical-align: middle;\n",
       "    }\n",
       "\n",
       "    .dataframe tbody tr th {\n",
       "        vertical-align: top;\n",
       "    }\n",
       "\n",
       "    .dataframe thead th {\n",
       "        text-align: right;\n",
       "    }\n",
       "</style>\n",
       "<table border=\"1\" class=\"dataframe\">\n",
       "  <thead>\n",
       "    <tr style=\"text-align: right;\">\n",
       "      <th></th>\n",
       "      <th>Comment_Count</th>\n",
       "    </tr>\n",
       "  </thead>\n",
       "  <tbody>\n",
       "    <tr>\n",
       "      <th>count</th>\n",
       "      <td>44.000000</td>\n",
       "    </tr>\n",
       "    <tr>\n",
       "      <th>mean</th>\n",
       "      <td>18.727273</td>\n",
       "    </tr>\n",
       "    <tr>\n",
       "      <th>std</th>\n",
       "      <td>18.337106</td>\n",
       "    </tr>\n",
       "    <tr>\n",
       "      <th>min</th>\n",
       "      <td>1.000000</td>\n",
       "    </tr>\n",
       "    <tr>\n",
       "      <th>25%</th>\n",
       "      <td>6.750000</td>\n",
       "    </tr>\n",
       "    <tr>\n",
       "      <th>50%</th>\n",
       "      <td>14.000000</td>\n",
       "    </tr>\n",
       "    <tr>\n",
       "      <th>75%</th>\n",
       "      <td>28.000000</td>\n",
       "    </tr>\n",
       "    <tr>\n",
       "      <th>max</th>\n",
       "      <td>88.000000</td>\n",
       "    </tr>\n",
       "  </tbody>\n",
       "</table>\n",
       "</div>"
      ],
      "text/plain": [
       "       Comment_Count\n",
       "count      44.000000\n",
       "mean       18.727273\n",
       "std        18.337106\n",
       "min         1.000000\n",
       "25%         6.750000\n",
       "50%        14.000000\n",
       "75%        28.000000\n",
       "max        88.000000"
      ]
     },
     "execution_count": 149,
     "metadata": {},
     "output_type": "execute_result"
    }
   ],
   "source": [
    "df.describe()"
   ]
  },
  {
   "cell_type": "code",
   "execution_count": 150,
   "metadata": {},
   "outputs": [
    {
     "data": {
      "text/plain": [
       "<seaborn.axisgrid.FacetGrid at 0x7f4776185930>"
      ]
     },
     "execution_count": 150,
     "metadata": {},
     "output_type": "execute_result"
    },
    {
     "data": {
      "image/png": "[encoded data removed]",
      "text/plain": [
       "<Figure size 500x500 with 1 Axes>"
      ]
     },
     "metadata": {},
     "output_type": "display_data"
    }
   ],
   "source": [
    "sns.displot(df, x=\"Comment_Count\", binwidth=10)"
   ]
  },
  {
   "cell_type": "code",
   "execution_count": 151,
   "metadata": {},
   "outputs": [],
   "source": [
    "# for i in range(0, 5):\n",
    "#     print(\"Comment count:\", df.iloc[i][\"Comment_Count\"])\n",
    "#     if df.iloc[i][\"Is_Translated\"]:\n",
    "#         print(\"Original: Dutch\")\n",
    "#     else:\n",
    "#         print(\"Original: English\")\n",
    "#     print(df.iloc[i][\"Text\"])\n",
    "#     print()\n",
    "#     print()"
   ]
  },
  {
   "cell_type": "code",
   "execution_count": 152,
   "metadata": {},
   "outputs": [],
   "source": [
    "# test_string = \"$350\"\n",
    "# currency = re.search(pattern, test_string).group()\n",
    "\n",
    "# decimal_point_char = locale.localeconv()['decimal_point']\n",
    "# price = re.sub(r'[^0-9'+decimal_point_char+r']+', '', currency)\n",
    "# price\n",
    "\n",
    "def getPrice(row):\n",
    "    pattern = \"[\\$\\£\\€]\\s?(\\d+(?:\\.\\d{1,2})?)\"\n",
    "    text = row[\"Text\"]\n",
    "    currency = re.search(pattern, text)\n",
    "\n",
    "    # If currency isn't before number, check if it's after\n",
    "    if currency is None:\n",
    "        pattern = \"(\\d+(?:\\.\\d{1,2})?)\\s?[\\$\\£\\€]\"\n",
    "        currency = re.search(pattern, text)\n",
    "\n",
    "    # Check for \"euro\" in the string\n",
    "    if currency is None:\n",
    "        words = text.lower().split()\n",
    "        if \"euro\" in words:\n",
    "            currency = [words[words.index(\"euro\")-1]]\n",
    "        if \"euros\" in words:\n",
    "            currency = [words[words.index(\"euros\")-1]]\n",
    "        if \"euro/month.\" in words:\n",
    "            currency = [words[words.index(\"euro/month.\")-1]]\n",
    "        if \"incl\" in words:\n",
    "            currency = [words[words.index(\"incl\")-1]]\n",
    "\n",
    "    # Check for \",-\"\n",
    "    if currency is None:\n",
    "        pattern = \"(\\d+(?:\\.\\d{1,2})?)\\s?\\,\\-\"\n",
    "        currency = re.search(pattern, text)\n",
    "    if currency is None:\n",
    "        return math.nan\n",
    "    currency = currency[0]\n",
    "    decimal_point_char = locale.localeconv()['decimal_point']\n",
    "    price = re.sub(r'[^0-9'+decimal_point_char+r']+', '', currency)\n",
    "    return price"
   ]
  },
  {
   "cell_type": "code",
   "execution_count": 153,
   "metadata": {},
   "outputs": [],
   "source": [
    "df[\"Price\"] = df.apply(lambda row: getPrice(row), axis=1)"
   ]
  },
  {
   "cell_type": "code",
   "execution_count": 154,
   "metadata": {},
   "outputs": [],
   "source": [
    "# susses = [3, 7, 18, 27, 42, 43]\n",
    "# for sus in susses:\n",
    "#     print(df.iloc[sus][\"Price\"])\n",
    "#     print(df.iloc[sus][\"Text\"])\n",
    "#     print()"
   ]
  },
  {
   "cell_type": "code",
   "execution_count": 155,
   "metadata": {},
   "outputs": [],
   "source": [
    "# Manual fixing because it's faster and it's late at night\n",
    "df.at[3, \"Price\"] = 350\n",
    "df.at[7, \"Price\"] = 310\n",
    "df.at[18, \"Price\"] = 390\n",
    "df.at[27, \"Price\"] = 285\n",
    "df.at[43, \"Price\"] = 588\n",
    "df = df.drop([40, 41, 42]) #NaN and people looking for a place, very high price "
   ]
  },
  {
   "cell_type": "code",
   "execution_count": 156,
   "metadata": {},
   "outputs": [
    {
     "data": {
      "text/plain": [
       "count     41.000000\n",
       "mean     397.158537\n",
       "std      127.920602\n",
       "min      254.000000\n",
       "25%      320.000000\n",
       "50%      360.000000\n",
       "75%      450.000000\n",
       "max      940.000000\n",
       "Name: Price, dtype: float64"
      ]
     },
     "execution_count": 156,
     "metadata": {},
     "output_type": "execute_result"
    }
   ],
   "source": [
    "df[\"Price\"] = pd.to_numeric(df[\"Price\"])\n",
    "df[\"Price\"].describe()"
   ]
  },
  {
   "cell_type": "code",
   "execution_count": 161,
   "metadata": {},
   "outputs": [
    {
     "data": {
      "text/plain": [
       "\"HOMEMATE WANTED FROM 1 NOVEMBERBecause my two roommates are leaving Eindhoven, I am looking for two new roommates for a corner house at the Boschdijk.The room with its own bathroom is about 18 m2 and is located on the first floor.The largest room (with storage space) is about 30 m2 in size and is located on the top floor. Here you share a bathroom with me.The house is 4 minutes by bike from Strijp-S station, 10 minutes to the center. Jumbo and the Woenselse market within walking distance.We have a shared washing machine and dishwasher. These amenities, along with internet, are already included in the rent. (€940: rent, tv/internet, g/w/l)If you are interested in one of these rooms, send a message about yourself and who knows we will invite you to the viewing evening on Tuesday 25 October.You can't but you want to respond? No problem, we can always call!\""
      ]
     },
     "execution_count": 161,
     "metadata": {},
     "output_type": "execute_result"
    }
   ],
   "source": [
    "# df[df[\"Price\"] == float(940)][\"Text\"]\n",
    "df.iloc[28][\"Text\"]"
   ]
  },
  {
   "cell_type": "code",
   "execution_count": 162,
   "metadata": {},
   "outputs": [
    {
     "data": {
      "text/plain": [
       "<AxesSubplot: xlabel='Price', ylabel='Comment_Count'>"
      ]
     },
     "execution_count": 162,
     "metadata": {},
     "output_type": "execute_result"
    },
    {
     "data": {
      "image/png": "[encoded data removed]",
      "text/plain": [
       "<Figure size 640x480 with 1 Axes>"
      ]
     },
     "metadata": {},
     "output_type": "display_data"
    }
   ],
   "source": [
    "sns.lineplot(df, x=\"Price\", y=\"Comment_Count\")"
   ]
  }
 ],
 "metadata": {
  "kernelspec": {
   "display_name": "Python 3.10.6 ('venv': venv)",
   "language": "python",
   "name": "python3"
  },
  "language_info": {
   "codemirror_mode": {
    "name": "ipython",
    "version": 3
   },
   "file_extension": ".py",
   "mimetype": "text/x-python",
   "name": "python",
   "nbconvert_exporter": "python",
   "pygments_lexer": "ipython3",
   "version": "3.10.6"
  },
  "orig_nbformat": 4,
  "vscode": {
   "interpreter": {
    "hash": "69eddf76122a7a77fa761679cc76164f49f300d238d45f30943e7d02df2c26d3"
   }
  }
 },
 "nbformat": 4,
 "nbformat_minor": 2
}
